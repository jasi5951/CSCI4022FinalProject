{
 "cells": [
  {
   "cell_type": "code",
   "execution_count": null,
   "id": "3d424230",
   "metadata": {},
   "outputs": [],
   "source": [
    "import pandas as pd\n",
    "import matplotlib.pyplot as plt\n",
    "import numpy as np\n",
    "import statsmodels.api as sm\n",
    "import math\n",
    "import seaborn as sns\n",
    "import matplotlib.pyplot as plt\n",
    "import scipy.stats as stats\n",
    "import statsmodels.api as sm"
   ]
  },
  {
   "cell_type": "markdown",
   "id": "0f6a87ea",
   "metadata": {},
   "source": [
    "# K-Means"
   ]
  },
  {
   "cell_type": "code",
   "execution_count": null,
   "id": "bc4a30d4",
   "metadata": {},
   "outputs": [],
   "source": [
    "df = pd.read_csv(\"mushroom.csv\")"
   ]
  },
  {
   "cell_type": "code",
   "execution_count": null,
   "id": "6f46b2be",
   "metadata": {},
   "outputs": [],
   "source": [
    "df[df[\"class\"] == \"p\"][\"class\"].count()"
   ]
  },
  {
   "cell_type": "code",
   "execution_count": null,
   "id": "7907b0ba",
   "metadata": {},
   "outputs": [],
   "source": [
    "df[(df[\"class\"] == \"p\")][\"cap-diameter\"].max()"
   ]
  },
  {
   "cell_type": "code",
   "execution_count": null,
   "id": "3bfa91a2",
   "metadata": {},
   "outputs": [],
   "source": [
    "df[(df[\"stem-height\"] <= 21) & (df[\"stem-width\"] <= 60) & (df[\"cap-diameter\"] <= 31) & (df[\"class\"] == \"e\")][\"class\"].count()"
   ]
  },
  {
   "cell_type": "code",
   "execution_count": null,
   "id": "e299e845",
   "metadata": {},
   "outputs": [],
   "source": [
    "!pip install dataprep\n",
    "from dataprep.eda import plot, plot_correlation, create_report, plot_missing"
   ]
  },
  {
   "cell_type": "code",
   "execution_count": null,
   "id": "72138756",
   "metadata": {
    "scrolled": true
   },
   "outputs": [],
   "source": [
    "df.describe()"
   ]
  },
  {
   "cell_type": "code",
   "execution_count": null,
   "id": "1a646b30",
   "metadata": {},
   "outputs": [],
   "source": [
    "create_report(df)"
   ]
  },
  {
   "cell_type": "code",
   "execution_count": null,
   "id": "703636da",
   "metadata": {},
   "outputs": [],
   "source": [
    "df = df.drop(columns = [\"spore-print-color\", \"veil-color\", \"veil-type\", \"stem-root\", \"stem-surface\"])"
   ]
  },
  {
   "cell_type": "code",
   "execution_count": null,
   "id": "6102be52",
   "metadata": {},
   "outputs": [],
   "source": [
    "df.info()"
   ]
  },
  {
   "cell_type": "code",
   "execution_count": null,
   "id": "886c818d",
   "metadata": {},
   "outputs": [],
   "source": [
    "dffloat = df[[\"cap-diameter\", \"stem-height\", \"stem-width\", \"class\"]]"
   ]
  },
  {
   "cell_type": "code",
   "execution_count": null,
   "id": "7c97e2f5",
   "metadata": {},
   "outputs": [],
   "source": [
    "dffloat.info()"
   ]
  },
  {
   "cell_type": "code",
   "execution_count": null,
   "id": "007b4811",
   "metadata": {},
   "outputs": [],
   "source": [
    "def distance(x, y):\n",
    "    squaresum = 0\n",
    "    for i in range(len(x)):\n",
    "        squaresum = squaresum + (x[i] - y[i])**2\n",
    "    return np.sqrt(squaresum)"
   ]
  },
  {
   "cell_type": "code",
   "execution_count": null,
   "id": "abf2dcd0",
   "metadata": {},
   "outputs": [],
   "source": [
    "def kmeans(df, k=4, tol=0.05): \n",
    "    \"\"\"\n",
    "    Usage: input \n",
    "        df=data frame, \n",
    "        k=# of clusters\n",
    "        tol=tolerance for L_2 convergance check on centroids\n",
    "    \"\"\"    \n",
    "    #Do the thing\n",
    "    X = df.values\n",
    "    centroids = X[np.random.choice(X.shape[0], size=k, replace=False)]\n",
    "    clusters = np.array([-1]*len(X))\n",
    "    meanerror = float('inf')\n",
    "    while True:\n",
    "        for i in range(len(clusters)):\n",
    "            dists = [distance(X[i], cent) for cent in centroids]\n",
    "            assignment = dists.index(min(dists))\n",
    "            clusters[i] = assignment\n",
    "\n",
    "        new_centroids = np.array([X[clusters == j].mean(axis=0) for j in range(k)])\n",
    "        \n",
    "        new_meanerror = np.mean([distance(X[i], new_centroids[clusters[i]])**2 for i in range(len(X))])\n",
    "        \n",
    "        if abs(meanerror - np.mean(new_meanerror)) <= tol:\n",
    "            break\n",
    "            \n",
    "        centroids = new_centroids\n",
    "        meanerror = new_meanerror\n",
    "    return centroids, clusters, meanerror "
   ]
  },
  {
   "cell_type": "code",
   "execution_count": null,
   "id": "33cc6a1a",
   "metadata": {},
   "outputs": [],
   "source": [
    "centroids, clusters, meanerror = kmeans(dffloat[[\"cap-diameter\", \"stem-height\", \"stem-width\"]], k=5)"
   ]
  },
  {
   "cell_type": "code",
   "execution_count": null,
   "id": "e0b41425",
   "metadata": {},
   "outputs": [],
   "source": [
    "listmeanerror = []\n",
    "minmeanerror = 10000000\n",
    "leasterror = 0\n",
    "for i in range(1, 15):\n",
    "    print(i)\n",
    "    centroids, clusters, meanerror = kmeans(dffloat[[\"cap-diameter\", \"stem-height\", \"stem-width\"]], k=i)\n",
    "    listmeanerror.append(meanerror)\n",
    "    if meanerror < minmeanerror:\n",
    "        leasterror = i\n",
    "        "
   ]
  },
  {
   "cell_type": "code",
   "execution_count": null,
   "id": "077bc9c6",
   "metadata": {},
   "outputs": [],
   "source": [
    "plt.plot(range(1, 15), listmeanerror)\n",
    "plt.title(\"Error plot for K-Means\")\n",
    "plt.xlabel(\"Number of Clusters\")\n",
    "plt.ylabel(\"Mean Error\")"
   ]
  },
  {
   "cell_type": "code",
   "execution_count": null,
   "id": "85631f2e",
   "metadata": {},
   "outputs": [],
   "source": [
    "dffloat[[\"cap-diameter\", \"stem-height\", \"stem-width\"]]"
   ]
  },
  {
   "cell_type": "markdown",
   "id": "1547a5bb",
   "metadata": {},
   "source": [
    "### K-Means on stem height and width and cap diameter\n",
    "I found that theres only a certain range for all numerical features that mushrooms are poisonous"
   ]
  },
  {
   "cell_type": "code",
   "execution_count": null,
   "id": "1f31d2ca",
   "metadata": {},
   "outputs": [],
   "source": [
    "plt.scatter(dffloat[\"stem-height\"].values, dffloat[\"stem-width\"].values, c=clusters)\n",
    "# plt.scatter(dffloat[dffloat[\"class\"] == \"p\"][\"stem-height\"].values, dffloat[dffloat[\"class\"] == \"p\"][\"stem-width\"].values, c=\"blue\", s=0.01)\n",
    "plt.xlabel(\"Stem-Height\")\n",
    "plt.ylabel(\"Stem Width\")\n",
    "plt.scatter([x[1] for x in centroids], [x[2] for x in centroids], c='red', marker='+')\n",
    "plt.title(\"2 Clusters with K-Means\")"
   ]
  },
  {
   "cell_type": "code",
   "execution_count": null,
   "id": "516d59da",
   "metadata": {},
   "outputs": [],
   "source": [
    "for i in range(0, 5):\n",
    "    x = dffloat[(clusters == i) & (dffloat[\"class\"] == \"p\")][\"class\"].count() / dffloat[clusters == i][\"class\"].count()\n",
    "    print(max(x, 1-x))"
   ]
  },
  {
   "cell_type": "code",
   "execution_count": null,
   "id": "7e5ddfe6",
   "metadata": {},
   "outputs": [],
   "source": [
    "clusters == 1"
   ]
  },
  {
   "cell_type": "code",
   "execution_count": null,
   "id": "637d7055",
   "metadata": {},
   "outputs": [],
   "source": [
    "plt.scatter(dffloat[dffloat[\"class\"] == \"e\"][\"stem-height\"].values, dffloat[dffloat[\"class\"] == \"e\"][\"stem-width\"].values, label=\"Edible\")\n",
    "plt.scatter(dffloat[dffloat[\"class\"] == \"p\"][\"stem-height\"].values, dffloat[dffloat[\"class\"] == \"p\"][\"stem-width\"].values, label=\"Poisonous\")\n",
    "plt.legend()\n",
    "plt.xlabel(\"Stem-Height\")\n",
    "plt.ylabel(\"Stem Width\")\n",
    "plt.title(\"P vs E\")"
   ]
  },
  {
   "cell_type": "code",
   "execution_count": null,
   "id": "9f317b0a",
   "metadata": {},
   "outputs": [],
   "source": [
    "plt.scatter(dffloat[\"stem-height\"].values, dffloat[\"cap-diameter\"].values, c=clusters)\n",
    "plt.scatter(dffloat[dffloat[\"class\"] == \"p\"][\"stem-height\"].values, dffloat[dffloat[\"class\"] == \"p\"][\"cap-diameter\"].values, c=\"blue\", s=0.01)"
   ]
  },
  {
   "cell_type": "code",
   "execution_count": null,
   "id": "97a5a1b7",
   "metadata": {},
   "outputs": [],
   "source": [
    "plt.scatter(dffloat[\"stem-width\"].values, dffloat[\"cap-diameter\"].values, c=clusters)\n",
    "#plt.scatter(dffloat[dffloat[\"class\"] == \"p\"][\"stem-width\"].values, dffloat[dffloat[\"class\"] == \"p\"][\"cap-diameter\"].values, c=\"blue\", s=0.01)\n",
    "plt.xlabel(\"Stem-Width\")\n",
    "plt.ylabel(\"Cap-Diameter\")\n",
    "plt.scatter([x[2] for x in centroids], [x[0] for x in centroids], c='red', marker='+')\n",
    "plt.title(\"5 Clusters with K-Means\")"
   ]
  },
  {
   "cell_type": "code",
   "execution_count": null,
   "id": "656cf836",
   "metadata": {},
   "outputs": [],
   "source": [
    "plt.scatter(dffloat[dffloat[\"class\"] == \"e\"][\"stem-width\"].values, dffloat[dffloat[\"class\"] == \"e\"][\"cap-diameter\"].values, label=\"Edible\")\n",
    "plt.scatter(dffloat[dffloat[\"class\"] == \"p\"][\"stem-width\"].values, dffloat[dffloat[\"class\"] == \"p\"][\"cap-diameter\"].values, label=\"Poisonous\")\n",
    "plt.legend()\n",
    "plt.xlabel(\"Stem Width\")\n",
    "plt.ylabel(\"Cap Diameter\")\n",
    "plt.title(\"P vs E\")"
   ]
  },
  {
   "cell_type": "markdown",
   "id": "27c6630a",
   "metadata": {},
   "source": [
    "### Pruning dataset to only certain numerical ranges of features"
   ]
  },
  {
   "cell_type": "code",
   "execution_count": null,
   "id": "15e80ed3",
   "metadata": {},
   "outputs": [],
   "source": [
    "dffloat = dffloat[(dffloat[\"class\"] == \"p\") & (dffloat[\"cap-diameter\"] <= 31)]"
   ]
  },
  {
   "cell_type": "code",
   "execution_count": null,
   "id": "c8f46d9b",
   "metadata": {},
   "outputs": [],
   "source": [
    "dffloat = dffloat[(dffloat[\"class\"] == \"p\") & (dffloat[\"stem-height\"] <= 21)]"
   ]
  },
  {
   "cell_type": "code",
   "execution_count": null,
   "id": "b44f27ca",
   "metadata": {},
   "outputs": [],
   "source": [
    "dffloat = dffloat[(dffloat[\"class\"] == \"p\") & (dffloat[\"stem-width\"] <= 60)]"
   ]
  },
  {
   "cell_type": "code",
   "execution_count": null,
   "id": "ffa0149c",
   "metadata": {},
   "outputs": [],
   "source": [
    "centroids, clusters, meanerror = kmeans(dffloat[[\"cap-diameter\", \"stem-height\", \"stem-width\"]], k=4)"
   ]
  },
  {
   "cell_type": "code",
   "execution_count": null,
   "id": "09ce518a",
   "metadata": {},
   "outputs": [],
   "source": [
    "plt.scatter(dffloat[\"stem-height\"].values, dffloat[\"stem-width\"].values, c=clusters)\n",
    "plt.scatter(dffloat[dffloat[\"class\"] == \"p\"][\"stem-height\"].values, dffloat[dffloat[\"class\"] == \"p\"][\"stem-width\"].values, c=\"blue\", s=0.01)"
   ]
  },
  {
   "cell_type": "code",
   "execution_count": null,
   "id": "08267085",
   "metadata": {},
   "outputs": [],
   "source": [
    "plt.scatter(dffloat[\"stem-height\"].values, dffloat[\"cap-diameter\"].values, c=clusters)\n",
    "plt.scatter(dffloat[dffloat[\"class\"] == \"p\"][\"stem-height\"].values, dffloat[dffloat[\"class\"] == \"p\"][\"cap-diameter\"].values, c=\"blue\", s=0.01)"
   ]
  },
  {
   "cell_type": "code",
   "execution_count": null,
   "id": "c5f435fd",
   "metadata": {},
   "outputs": [],
   "source": [
    "plt.scatter(dffloat[\"stem-width\"].values, dffloat[\"cap-diameter\"].values, c=clusters)\n",
    "plt.scatter(dffloat[dffloat[\"class\"] == \"p\"][\"stem-width\"].values, dffloat[dffloat[\"class\"] == \"p\"][\"cap-diameter\"].values, c=\"blue\", s=0.01)"
   ]
  },
  {
   "cell_type": "code",
   "execution_count": null,
   "id": "33bc65cc",
   "metadata": {},
   "outputs": [],
   "source": [
    "create_report(dffloat)"
   ]
  },
  {
   "cell_type": "code",
   "execution_count": null,
   "id": "0f421c3e",
   "metadata": {},
   "outputs": [],
   "source": [
    "create_report(df)"
   ]
  },
  {
   "cell_type": "code",
   "execution_count": null,
   "id": "21555654",
   "metadata": {},
   "outputs": [],
   "source": []
  },
  {
   "cell_type": "markdown",
   "id": "9a58132d",
   "metadata": {},
   "source": [
    "# GMM"
   ]
  },
  {
   "cell_type": "code",
   "execution_count": null,
   "id": "2bd07e38",
   "metadata": {},
   "outputs": [],
   "source": [
    "df=pd.read_csv('mushroom.csv', encoding='UTF-8')\n",
    "print(df[['cap-diameter', 'stem-height','stem-width']])"
   ]
  },
  {
   "cell_type": "code",
   "execution_count": null,
   "id": "61e84249",
   "metadata": {},
   "outputs": [],
   "source": [
    "def GMM_starter(dat, k):\n",
    "    np.random.seed(70)\n",
    "    \n",
    "    mushrooms = dat.values\n",
    "    \n",
    "    #This represents Σ_m (covariance matrix of each component)\n",
    "    covars=np.zeros((k,3,3))\n",
    "    \n",
    "    #This represents μ_m (mean values of each component)\n",
    "    means=np.zeros((k,3))\n",
    "    \n",
    "    #This represents W_m (weights/likelihood of each component)\n",
    "    p_class=np.zeros(k)\n",
    "    \n",
    "    #This represents P(x_i | cluster = m), or Φ(x_i | μ_m, Σ_m)\n",
    "    p_data_given_class=np.zeros((len(dat),k))\n",
    "    p_class_given_data=np.zeros((len(dat),k))\n",
    "\n",
    "    \n",
    "    \"\"\"Initialize means, covs, p_classes\"\"\"\n",
    "    #initializations of starting points (used to set the initial means below)\n",
    "    init_idx=np.random.choice(range(len(dat)), size=k, replace=False)\n",
    "    \n",
    "    #Initialize the covariance matrix, the means, and the p_class for each of k components (dims)\n",
    "    for dim in range(k):\n",
    "        #Set the cov matrix of each component to the cov of the entire dataset\n",
    "        covars[dim,:,:]=np.cov(np.transpose(dat))\n",
    "\n",
    "        #Set initial means to initial chosen data points\n",
    "        means[dim,:]=dat.iloc[init_idx[dim]]\n",
    "        \n",
    "        #Give each component equal weighting / likelihood to start\n",
    "        p_class[dim]=1/k\n",
    "        \n",
    "    for step in range(50):  \n",
    "        \n",
    "        #Expectation Step\n",
    "        summ = np.zeros(len(dat))\n",
    "        for i in range(k):\n",
    "            p_data_given_class[:, i] = stats.multivariate_normal.pdf(mushrooms, mean=means[i], cov=covars[i])\n",
    "            p_class_given_data[:, i] = p_data_given_class[:, i] * p_class[i]\n",
    "            summ += p_class_given_data[:, i]\n",
    "        \n",
    "        for i in range(k):\n",
    "            p_class_given_data[:, i] /= summ\n",
    "            \n",
    "        \n",
    "        #Maximization Step\n",
    "        for i in range(k):\n",
    "            # updating weights\n",
    "            count = np.sum(p_class_given_data[:, i])\n",
    "            p_class[i] = count/len(dat)\n",
    "            \n",
    "            #updating means\n",
    "            for p in range(3):\n",
    "                means[i][p] = (1/count) * np.sum(p_class_given_data[:, i] * mushrooms[:,p])\n",
    "            \n",
    "            #updating variances\n",
    "            covars[i] = np.cov(np.transpose(dat),aweights=p_class_given_data[:, i], ddof=0)\n",
    "    \n",
    "    mean_dist = 0\n",
    "    for i in range(k):\n",
    "        for p in range(3):\n",
    "            mean_dist += np.sum(p_class_given_data[:, i] * ((mushrooms[:,p]-means[i][p])**2))\n",
    "    mean_dist = np.sqrt(mean_dist/len(dat)/k)\n",
    "    \n",
    "    #Return all the needed variables\n",
    "    return p_class_given_data, means, covars, p_class, mean_dist"
   ]
  },
  {
   "cell_type": "markdown",
   "id": "c652b976",
   "metadata": {},
   "source": [
    "Below we run an elbow plot to see mean errors for each value of k from 1 to 8."
   ]
  },
  {
   "cell_type": "code",
   "execution_count": null,
   "id": "aed5ab07",
   "metadata": {},
   "outputs": [],
   "source": [
    "# graphing mean distances for k, 1 to 8\n",
    "X = range(1,9)\n",
    "mean_distances = []\n",
    "for k in range(1,9):\n",
    "    p_class_given_data, means, covars, p_class, mean_dist = GMM_starter(df[[\"cap-diameter\",\"stem-height\",'stem-width']], k)\n",
    "    mean_distances.append(mean_dist)\n",
    "fig, ax = plt.subplots(1,1, figsize=(5,5))\n",
    "plt.scatter(X, mean_distances)\n",
    "plt.xlabel(\"k-value\")\n",
    "plt.title(\"Elbow Plot of Weighted Mean Distance\")\n",
    "plt.ylabel(\"Distance\")\n",
    "plt.show()"
   ]
  },
  {
   "cell_type": "markdown",
   "id": "f18008ff",
   "metadata": {},
   "source": [
    "Below, we start comparing plots of our formed clusters (based on cap diameter, stem height, and stem width) and comparing the clusters to the poisinous vs edible to see if the clusters are correct."
   ]
  },
  {
   "cell_type": "code",
   "execution_count": null,
   "id": "faf9bb0b",
   "metadata": {},
   "outputs": [],
   "source": [
    "p_class_given_data, means, covars, p_class, mean_dist = GMM_starter(df[[\"cap-diameter\",\"stem-height\",'stem-width']], 2)\n",
    "\n",
    "# graphing the points/clusters\n",
    "dataPoints = df[[\"stem-height\",'stem-width']].values\n",
    "colors = ['blue','yellow']\n",
    "colorsIndex = np.argmax(p_class_given_data, axis=1)\n",
    "fig, ax = plt.subplots(1,1, figsize=(5,5))\n",
    "plt.scatter(dataPoints[:,0], dataPoints[:,1],c=[colors[i] for i in colorsIndex])\n",
    "plt.title(\"2 clusters\")\n",
    "plt.xlabel(\"Stem Height\")\n",
    "plt.ylabel(\"Stem Width\")\n",
    "plt.show()\n",
    "\n",
    "#graphing the points/actual classifications\n",
    "dataPoints = df[[\"stem-height\",'stem-width']].values\n",
    "colors = ['blue','yellow']\n",
    "colorsIndex = df[\"class\"] == \"p\"\n",
    "fig, ax = plt.subplots(1,1, figsize=(5,5))\n",
    "plt.scatter(dataPoints[:,0], dataPoints[:,1],c=[colors[i] for i in colorsIndex])\n",
    "plt.title(\"P vs E\")\n",
    "plt.xlabel(\"Stem Height\")\n",
    "plt.ylabel(\"Stem Width\")\n",
    "plt.show()"
   ]
  },
  {
   "cell_type": "markdown",
   "id": "10414146",
   "metadata": {},
   "source": [
    "Above, we have made 2 plots. One of the 2 clusters and the other plot is edible vs poisinous. We can see that the clusters don't represent the classification very well."
   ]
  },
  {
   "cell_type": "code",
   "execution_count": null,
   "id": "c2fa95e1",
   "metadata": {},
   "outputs": [],
   "source": [
    "p_class_given_data, means, covars, p_class, mean_dist = GMM_starter(df[[\"cap-diameter\",\"stem-height\",'stem-width']], 8)\n",
    "\n",
    "# graphing the points/8 clusters\n",
    "dataPoints = df[[\"stem-height\",'stem-width']].values\n",
    "colors = ['red','green','blue','yellow','pink','brown','orange','purple','grey']\n",
    "colorsIndex = np.argmax(p_class_given_data,axis=1)\n",
    "fig, ax = plt.subplots(1,1, figsize=(5,5))\n",
    "plt.scatter(dataPoints[:,0], dataPoints[:,1],c=[colors[i] for i in colorsIndex])\n",
    "plt.title(\"8 clusters\")\n",
    "plt.xlabel(\"Stem Height\")\n",
    "plt.ylabel(\"Stem Width\")\n",
    "plt.show()\n",
    "\n",
    "# graphing the points/actual classifications\n",
    "dataPoints = df[[\"stem-height\",'stem-width']].values\n",
    "colors = ['blue','yellow']\n",
    "colorsIndex = df[\"class\"] == \"p\"\n",
    "fig, ax = plt.subplots(1,1, figsize=(5,5))\n",
    "plt.scatter(dataPoints[:,0], dataPoints[:,1],c=[colors[i] for i in colorsIndex])\n",
    "plt.title(\"P vs E\")\n",
    "plt.xlabel(\"Stem Height\")\n",
    "plt.ylabel(\"Stem Width\")\n",
    "plt.show()\n",
    "\n",
    "# graphing the points/clusters with adjusted coloring to look like classification graph\n",
    "dataPoints = df[[\"stem-height\",'stem-width']].values\n",
    "colors = ['blue','yellow','yellow','blue','yellow','blue','blue','yellow','grey']\n",
    "colorsIndex = np.argmax(p_class_given_data,axis=1)\n",
    "fig, ax = plt.subplots(1,1, figsize=(5,5))\n",
    "plt.scatter(dataPoints[:,0], dataPoints[:,1],c=[colors[i] for i in colorsIndex])\n",
    "plt.title(\"8 clusters matched with class\")\n",
    "plt.xlabel(\"Stem Height\")\n",
    "plt.ylabel(\"Stem Width\")\n",
    "plt.show()"
   ]
  },
  {
   "cell_type": "markdown",
   "id": "7f174db5",
   "metadata": {},
   "source": [
    "Above we have made 3 plots. The first plot shows the 8 clusters formed. The second plot shows poisinous vs edible. And the last plot, we try to match the 8 clusters with the appropriate poisinous or edible classification. We can see that it is better but not perfect. Now below, we check how much each cluster is either entirely poisinous or entirely edible."
   ]
  },
  {
   "cell_type": "code",
   "execution_count": null,
   "id": "594bcce0",
   "metadata": {},
   "outputs": [],
   "source": [
    "p_class_given_data, means, covars, p_class, mean_dist = GMM_starter(df[[\"cap-diameter\",\"stem-height\",'stem-width']], 8)\n",
    "clusterPercentage = []\n",
    "clusters = np.argmax(p_class_given_data,axis=1)\n",
    "classes = df[\"class\"].values\n",
    "# getting the percentages of either p or e for each cluster (picks the higher percentage)\n",
    "for i in range(8):\n",
    "    p = np.sum(classes[clusters == i] == \"p\")\n",
    "    e = np.sum(classes[clusters == i] == \"e\")\n",
    "    clusterPercentage.append(p/(p+e) if p > e else e/(p+e))\n",
    "    \n",
    "clusterPercentage"
   ]
  },
  {
   "cell_type": "markdown",
   "id": "4ca4eb46",
   "metadata": {},
   "source": [
    "This is an array of the percentages associated with how much the data points in each cluster align with either only poisnous or only edible. For example, the first index is 51.9% meaning that the data points that are mainly in cluster 1, 51.9% of the data points are either only poisinous or are only edible. The point of this test is to see how strong of a correlation these clusters have with the classifications. If all of these values were 1, that would mean each cluster would have only poisionous mushrooms or only edible mushrooms. That would be the ideal as we want the clusters to accurately represent edibile vs poisionous. Note this is for 8 clusters. We now take the average of this percentage and compare the average among different number of clusters."
   ]
  },
  {
   "cell_type": "code",
   "execution_count": null,
   "id": "82c26437",
   "metadata": {},
   "outputs": [],
   "source": [
    "kmax = 12\n",
    "X = range(1,kmax)\n",
    "mean_percentages = []\n",
    "for k in range(1,kmax):\n",
    "    p_class_given_data, means, covars, p_class, mean_dist = GMM_starter(df[[\"cap-diameter\",\"stem-height\",'stem-width']], k)\n",
    "    clusterPercentage = []\n",
    "    clusters = np.argmax(p_class_given_data,axis=1)\n",
    "    classes = df[\"class\"].values\n",
    "    # getting the percentages of either p or e for each cluster (picks the higher percentage)\n",
    "    for i in range(k):\n",
    "        p = np.sum(classes[clusters == i] == \"p\")\n",
    "        e = np.sum(classes[clusters == i] == \"e\")\n",
    "        clusterPercentage.append(p/(p+e) if p > e else e/(p+e))\n",
    "            \n",
    "    mean_percentages.append(sum(clusterPercentage)/len(clusterPercentage))\n",
    "fig, ax = plt.subplots(1,1, figsize=(5,5))\n",
    "plt.scatter(X, mean_percentages)\n",
    "plt.xlabel(\"k-value\")\n",
    "plt.ylabel(\"Average Cluster Percentage\")\n",
    "plt.show()"
   ]
  },
  {
   "cell_type": "markdown",
   "id": "00cf90c8",
   "metadata": {},
   "source": [
    "We now run the same percentages test on 1 to 11 clusters but instead take the average of the cluster percentages from the previous cell. As we can see from this, the highest percentage was when there was 5 clusters, meaning that at 5 clusters, the clusters on average were either 68% poisionous or 68% edible. Like we previously said, this number should ideally be 1 as each cluster should only be poisinous or only be edible. Likewise, increasing the number of clusters lowers this average percentage even more. This shows that GMM with these 3 number fields is not very good as we want the clusters to mainly be either poisinous or edible, but the best percentage we got was 68%."
   ]
  },
  {
   "cell_type": "code",
   "execution_count": null,
   "id": "3cfe631d",
   "metadata": {},
   "outputs": [],
   "source": []
  }
 ],
 "metadata": {
  "kernelspec": {
   "display_name": "Python 3 (ipykernel)",
   "language": "python",
   "name": "python3"
  },
  "language_info": {
   "codemirror_mode": {
    "name": "ipython",
    "version": 3
   },
   "file_extension": ".py",
   "mimetype": "text/x-python",
   "name": "python",
   "nbconvert_exporter": "python",
   "pygments_lexer": "ipython3",
   "version": "3.9.16"
  }
 },
 "nbformat": 4,
 "nbformat_minor": 5
}
